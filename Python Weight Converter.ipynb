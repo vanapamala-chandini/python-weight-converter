{
 "cells": [
  {
   "cell_type": "markdown",
   "id": "69692030",
   "metadata": {},
   "source": [
    "## Sample Inputs\n",
    "The below weight converter program will take input as :\n",
    "- 10 kg to lb\n",
    "- 10 gms into oz\n",
    "- 20oz-gms\n",
    "\n",
    "## Supported metrics\n",
    "- Kilograms(kg) and Grams(gms)\n",
    "- Pounds(lb) \n",
    "- Ounce(oz)"
   ]
  },
  {
   "cell_type": "code",
   "execution_count": 1,
   "id": "993cefd4",
   "metadata": {},
   "outputs": [
    {
     "name": "stdout",
     "output_type": "stream",
     "text": [
      "Enter input : 10 kg to lb\n",
      "22.0\n"
     ]
    }
   ],
   "source": [
    "import re\n",
    "\n",
    "s = input('Enter input : ')\n",
    "\n",
    "# regex for extracting metrics and input value\n",
    "regex = r'(\\d+)\\s?([kglbgmsoz]{2,3}).*?([kglbgmsoz]{2,3})'\n",
    "\n",
    "# conversion rates between metrics\n",
    "rates = {'kg-gms':1000, 'kg-lb':2.20, 'kg-oz':35.2, 'gms-kg':0.001, 'gms-lb':0.0022, 'gms-oz':0.035, 'lb-kg':0.4535, 'lb-gms':453.92, 'lb-oz':15.999, 'oz-kg':0.028, 'oz-gms':28.3495, 'oz-lb':0.062}\n",
    "\n",
    "# compiling regex\n",
    "pattern = re.compile(regex)\n",
    "\n",
    "# searching for the object match\n",
    "match = pattern.search(s)\n",
    "\n",
    "if match:\n",
    "    val = int(match.group(1))\n",
    "    in_metric = match.group(2)\n",
    "    out_metric = match.group(3) \n",
    "    \n",
    "    out = val*rates[in_metric+'-'+out_metric]\n",
    "    print(out)\n",
    "else:\n",
    "    print('Invalid input')\n",
    "\n"
   ]
  },
  {
   "cell_type": "code",
   "execution_count": null,
   "id": "3b5e00c7",
   "metadata": {},
   "outputs": [],
   "source": []
  },
  {
   "cell_type": "code",
   "execution_count": null,
   "id": "13ab91af",
   "metadata": {},
   "outputs": [],
   "source": []
  }
 ],
 "metadata": {
  "kernelspec": {
   "display_name": "Python 3",
   "language": "python",
   "name": "python3"
  },
  "language_info": {
   "codemirror_mode": {
    "name": "ipython",
    "version": 3
   },
   "file_extension": ".py",
   "mimetype": "text/x-python",
   "name": "python",
   "nbconvert_exporter": "python",
   "pygments_lexer": "ipython3",
   "version": "3.8.8"
  }
 },
 "nbformat": 4,
 "nbformat_minor": 5
}
